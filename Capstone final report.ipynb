{
 "cells": [
  {
   "cell_type": "markdown",
   "metadata": {},
   "source": [
    "**Final report**"
   ]
  },
  {
   "cell_type": "markdown",
   "metadata": {},
   "source": [
    "**Business Problem**"
   ]
  },
  {
   "cell_type": "markdown",
   "metadata": {},
   "source": [
    "**Coursera capstone project: New Coffee shop in Brussels**"
   ]
  },
  {
   "cell_type": "markdown",
   "metadata": {},
   "source": [
    "As a coffee addict and etrepreneur, I would like to know where all the coffee shops in the center of Brussels are and where would be a good place to start a nex coffee based business.\n",
    "\n",
    "To solve this question we will use data from the FourSquare API. This data can tell us where all the coffee shops are situated and where might already be an abundance of shops. By looking for hot spots, we can find a fitting place where there aren't a lot of other options for the customers. This will be the location where I can start my business.\n",
    "\n",
    "This will solva a very hard problem for me because it is hard to find a good location to start a new business where you don't need to be too worried about getting new clients."
   ]
  },
  {
   "cell_type": "markdown",
   "metadata": {},
   "source": [
    "**Data**"
   ]
  },
  {
   "cell_type": "markdown",
   "metadata": {},
   "source": [
    "The data I will need for the project all comes from the FourSquare API. I will use the API to optain inforamtion such as locations and names of other coffee shops in Brussels to find a place where I can start a new one without interfearing."
   ]
  },
  {
   "cell_type": "markdown",
   "metadata": {},
   "source": [
    "Using the data, I can make a visual heatmap of the region to see if my solution is correct or not."
   ]
  },
  {
   "cell_type": "markdown",
   "metadata": {},
   "source": [
    "Libraries used:\n",
    "\n",
    "Folium: mapping of the locations\n",
    "\n",
    "Pandas & Numpy: edit data\n",
    "\n",
    "Geocoder: Retrieve lcoation data\n",
    "\n",
    "JSON: handle API results\n",
    "\n",
    "Request: make call to the API"
   ]
  },
  {
   "cell_type": "markdown",
   "metadata": {},
   "source": [
    "**Methodology**"
   ]
  },
  {
   "cell_type": "markdown",
   "metadata": {},
   "source": [
    "I used the API data to create a map of all the locations of coffee shops in Brussels. By clustering all the items by location, I was able to create a heat map of the city.\n",
    "\n",
    "These clusters were also used to find a dissimilar place where I could start my business. "
   ]
  },
  {
   "cell_type": "markdown",
   "metadata": {},
   "source": [
    "The machine learning technique used here whas the clustering of the items to find a fitting new location."
   ]
  },
  {
   "cell_type": "markdown",
   "metadata": {},
   "source": [
    "**Results**"
   ]
  },
  {
   "cell_type": "markdown",
   "metadata": {},
   "source": [
    "As you can see in my code, I was able to create a very interesting heat map in Folium and get a good reccommendation from it. I am very happy to see the model working. It is also very quick to run and load when you change parameters which is helpful when you try to edit it."
   ]
  },
  {
   "cell_type": "markdown",
   "metadata": {},
   "source": [
    "**Discussion**"
   ]
  },
  {
   "cell_type": "markdown",
   "metadata": {},
   "source": [
    "If I were to do this project again, I could include population info and ratings from the FourSquare API to make the model more accurate. In this version, I assumed that the population and pupolarity of every shop was equal, which is never the case exactly."
   ]
  },
  {
   "cell_type": "markdown",
   "metadata": {},
   "source": [
    "**Conculsion**"
   ]
  },
  {
   "cell_type": "markdown",
   "metadata": {},
   "source": [
    "There can never be enough coffee shops in a big city! I am happy that I found an extra place to start another one.\n",
    "\n",
    "This proof of concept was very fun to make and tinker around with. This will centainly not be my last project. I will keep working with differente techniques to make more accurate and other interesting models."
   ]
  },
  {
   "cell_type": "code",
   "execution_count": null,
   "metadata": {},
   "outputs": [],
   "source": []
  }
 ],
 "metadata": {
  "kernelspec": {
   "display_name": "Python 3",
   "language": "python",
   "name": "python3"
  },
  "language_info": {
   "codemirror_mode": {
    "name": "ipython",
    "version": 3
   },
   "file_extension": ".py",
   "mimetype": "text/x-python",
   "name": "python",
   "nbconvert_exporter": "python",
   "pygments_lexer": "ipython3",
   "version": "3.7.0"
  }
 },
 "nbformat": 4,
 "nbformat_minor": 2
}

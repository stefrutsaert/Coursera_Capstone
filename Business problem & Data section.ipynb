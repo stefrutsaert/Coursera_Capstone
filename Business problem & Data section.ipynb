{
 "cells": [
  {
   "cell_type": "markdown",
   "metadata": {},
   "source": [
    "**Business Problem**"
   ]
  },
  {
   "cell_type": "markdown",
   "metadata": {},
   "source": [
    "**Coursera capstone project: New Coffee shop in Brussels**"
   ]
  },
  {
   "cell_type": "markdown",
   "metadata": {},
   "source": [
    "As a coffee addict and etrepreneur, I would like to know where all the coffee shops in the center of Brussels are and where would be a good place to start a nex coffee based business.\n",
    "\n",
    "To solve this question we will use data from the FourSquare API. This data can tell us where all the coffee shops are situated and where might already be an abundance of shops. By looking for hot spots, we can find a fitting place where there aren't a lot of other options for the customers. This will be the location where I can start my business."
   ]
  },
  {
   "cell_type": "markdown",
   "metadata": {},
   "source": [
    "**Data**"
   ]
  },
  {
   "cell_type": "markdown",
   "metadata": {},
   "source": [
    "The data I will need for the project all comes from the FourSquare API. I will use the API to optain inforamtion such as locations and names of other coffee shops in Brussels to find a place where I can start a new one without interfearing."
   ]
  },
  {
   "cell_type": "markdown",
   "metadata": {},
   "source": [
    "Using the data, I can make a visual heatmap of the region to see if my solution is correct or not."
   ]
  },
  {
   "cell_type": "code",
   "execution_count": null,
   "metadata": {},
   "outputs": [],
   "source": []
  }
 ],
 "metadata": {
  "kernelspec": {
   "display_name": "Python 3",
   "language": "python",
   "name": "python3"
  },
  "language_info": {
   "codemirror_mode": {
    "name": "ipython",
    "version": 3
   },
   "file_extension": ".py",
   "mimetype": "text/x-python",
   "name": "python",
   "nbconvert_exporter": "python",
   "pygments_lexer": "ipython3",
   "version": "3.7.0"
  }
 },
 "nbformat": 4,
 "nbformat_minor": 2
}
